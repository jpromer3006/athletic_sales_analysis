# Import Libraries and Dependencies
import pandas as pd





# Read the CSV files into DataFrames.
athletic_sales_2020_csv = pd.read_csv("Resources/athletic_sales_2020.csv")
athletic_sales_2021_csv = pd.read_csv("Resources/athletic_sales_2021.csv") 


# Display the 2020 sales DataFrame
display(athletic_sales_2020_csv)


# Display the 2021 sales DataFrame
display(athletic_sales_2021_csv)


# Check the data types of each DataFrame
athletic_sales_2020_csv.info()
athletic_sales_2021_csv.info()


# Check the 2020 sales data types.
athletic_sales_2020_csv.dtypes 


# Check the 2021 sales data types.
athletic_sales_2021_csv.dtypes 





# Combine the 2020 and 2021 sales DataFrames on the rows and reset the index.
combined_sales_data_df = pd.concat([athletic_sales_2020_csv, athletic_sales_2021_csv], ignore_index=True)

# Display the combined DataFrame
combined_sales_data_df


# Check if any values are null.
null_values = combined_sales_data_df.isnull().values.any()
null_values





# Convert the "invoice_date" to a datetime datatype
combined_sales_data_df['invoice_date'] = pd.to_datetime(combined_sales_data_df['invoice_date'])
combined_sales_data_df.info()


# Confirm that the "invoice_date" data type has been changed.
combined_sales_data_df.info()








# Show the number products sold for region, state, and city.
total_products_sold_df = combined_sales_data_df.groupby(["region", "state", "city"])["units_sold"].sum().reset_index()

# Rename the sum to "Total_Products_Sold".
total_products_sold_df = total_products_sold_df.rename(columns={"units_sold": "Total_Products_Sold"})

# Show the top 5 results
total_products_sold_df = total_products_sold_df.sort_values(by="Total_Products_Sold", ascending=False)
total_products_sold_df.head(5)          





# Show the number total products sold for each region, state, and city
pivot_table_products_sold_df = pd.pivot_table(total_products_sold_df,
                                              index=["region", "state", "city"],
                                              values="Total_Products_Sold",
                                              aggfunc="sum").round(1)

# Rename the sum to "Total_Products_Sold"
pivot_table_products_sold_df = pivot_table_products_sold_df.rename(columns={"units_sold": "Total Products Sold"})

# Show the top 5 results
pivot_table_products_sold_df.sort_values(by="Total_Products_Sold", ascending=False).head()
#= pivot_table_products_sold_df.rename(columns={"units_sold": "Total Products Sold"})
#pivot_table_products_sold_df.head()



# Show the number products sold for region, state, and city.(#Assisted by Xpert Learning Assistant & ClaudAI)
most_sales_df = combined_sales_data_df.groupby(["region", "state", "city"])["total_sales"].sum().reset_index()

# Rename the "total_sales" column to "Total Sales"
total_sales_df = total_sales_df.rename(columns={"total_sales": "Total Sales"})
## total_sales_df["Total Sales"] = total_sales_df["Total Sales"].map('${:,.2f}'.format)
# Sort the DataFrame by the "Total Sales" column in descending order
total_sales_df = total_sales_df.sort_values("Total Sales", ascending=False)

# Show the top 5 results.
print("Top 5 Results:")
total_sales_df.head()





# Show the number total products sold for each region, state, and city
pivot_table_products_sold_df = pd.pivot_table(total_products_sold_df,
                                              index=["region", "state", "city"],
                                              values="Total_Products_Sold",
                                              aggfunc="sum").round(1)

# Rename the sum to "Total_Products_Sold"
pivot_table_products_sold_df = pivot_table_products_sold_df.rename(columns={"units_sold": "Total Products Sold"})

# Show the top 5 results
pivot_table_products_sold_df.sort_values(by="Total_Products_Sold", ascending=False).head()


# Show the number total products sold for each region, state, and city
pivot_most_sales_df = pd.pivot_table(combined_sales_data_df,
                                              index=["region", "state", "city"],
                                              values="total_sales",
                                              aggfunc="sum").round(1)
#pivot_table_products_sold_df = pivot_table_products_sold_df.rename(columns={"units_sold": "Total Products Sold"})
# Rename the sum to "Total_Products_Sold"
pivot_most_sales_df = pivot_table_products_sold_df.rename(columns={"units_sold": "Total Products Sold"})

# Show the top 5 results
pivot_most_sales_df.sort_values(by="Total_Products_Sold",ascending=False).head()
#pivot_table_products_sold_df.sort_values(by="Total_Products_Sold", ascending=False).head()














# Show the total sales for the products sold for each retailer, region, state, and city.


# Optional: Rename the "total_sales" column to "Total Sales"


# Show the top 5 results.






# Filter the sales data to get the women's athletic footwear sales data.






# Show the total number of women's athletic footwear sold for each retailer, region, state, and city.
# Rename the "units_sold" column to "Womens_Footwear_Units_Sold"

# Show the top 5 results.






# Show the total number of women's athletic footwear sold for each retailer, region, state, and city.


# Rename the "units_sold" column to "Womens_Footwear_Units_Sold"

# Show the top 5 results.






# Create a pivot table with the 'invoice_date' column is the index, and the "total_sales" as the values.


# Optional: Rename the "total_sales" column to "Total Sales"


# Show the table.



# Resample the pivot table into daily bins, and get the total sales for each day.


# Sort the resampled pivot table in ascending order on "Total Sales".






# Resample the pivot table into weekly bins, and get the total sales for each week.


# Sort the resampled pivot table in ascending order on "Total Sales".




