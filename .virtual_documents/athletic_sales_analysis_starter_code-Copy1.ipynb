# Import Libraries and Dependencies
import pandas as pd





# Read the CSV files into DataFrames.
athletic_sales_2020_csv = pd.read_csv("Resources/athletic_sales_2020.csv")
athletic_sales_2021_csv = pd.read_csv("Resources/athletic_sales_2021.csv") 


# Display the 2020 sales DataFrame
display(athletic_sales_2020_csv)


# Display the 2021 sales DataFrame
display(athletic_sales_2021_csv)


# Check the data types of each DataFrame
athletic_sales_2020_csv.info()
athletic_sales_2021_csv.info()


# Check the 2020 sales data types.
athletic_sales_2020_csv.dtypes 


# Check the 2021 sales data types.
athletic_sales_2021_csv.dtypes 





# Combine the 2020 and 2021 sales DataFrames on the rows and reset the index.
combined_sales_data_df = pd.concat([athletic_sales_2020_csv, athletic_sales_2021_csv], ignore_index=True)

# Display the combined DataFrame
combined_sales_data_df


# Check if any values are null.
null_values = combined_sales_data_df.isnull().values.any()
null_values





# Convert the "invoice_date" to a datetime datatype
combined_sales_data_df["invoice_date"] = pd.to_datetime(combined_sales_data_df["invoice_date"], format="mixed")
combined_sales_data_df.info()


# Confirm that the "invoice_date" data type has been changed.
combined_sales_data_df.info()








# Show the number products sold for region, state, and city.
total_products_sold_df = combined_sales_data_df.groupby(["region", "state", "city"])["units_sold"].sum().reset_index()

# Rename the sum to "Total_Products_Sold".
total_products_sold_df = total_products_sold_df.rename(columns={"units_sold": "Total_Products_Sold"})

# Show the top 5 results
total_products_sold_df = total_products_sold_df.sort_values(by="Total_Products_Sold", ascending=False)
total_products_sold_df.head(5)   

                     





## Show the number total products sold for each region, state, and city
pivot_table_products_sold_df = pd.pivot_table(total_products_sold_df,
                                              values="Total_Products_Sold",
                                              index=["region", "state", "city"],
                                              aggfunc="sum")

# Rename the sum to "Total_Products_Sold"
pivot_table_products_sold_df = pivot_table_products_sold_df.rename(columns={"Total_Products_Sold": "Total Products Sold"})

# Show the top 5 results
pivot_table_products_sold_df.sort_values(by="Total Products Sold", ascending=False).head(5)









# Show the number products sold for region, state, and city.(#Assisted by Xpert Learning Assistant & ClaudAI)
total_sales_df = combined_sales_data_df.groupby(["region", "state", "city"])["total_sales"].sum().reset_index()

# Rename the "total_sales" column to "Total Sales"
total_sales_df = total_sales_df.rename(columns={"total_sales": "Total Sales"})


# Show the top 5 results.
total_sales_df = total_sales_df.sort_values(by="Total Sales", ascending=False)
total_sales_df.head(5)





# Show the total sales for the products sold for each region, state, and city
pivot_table_total_sales_df = pd.pivot_table(total_sales_df,
                                            values="Total Sales",
                                            index=["region", "state", "city"],
                                            aggfunc="sum")
# Optional: Rename the "total_sales" columns to "Total Sales"
pivot_table_total_sales_df = pivot_table_total_sales_df.rename(columns={"Total_Sales": "Total Sales"})
# Show the top 5 results
pivot_table_total_sales_df.sort_values(by="Total Sales", ascending=False).head(5)








# Show the total sales for the products sold for each retailer, region, state, and city.
retailer_total_sales_df = combined_sales_data_df.groupby(["retailer", "region", "state", "city"])["total_sales"].sum().reset_index()

# Rename the "total_sales" column to "Total Sales"
retailer_total_sales_df = retailer_total_sales_df.rename(columns={"total_sales": "Total Sales"})

# Show the top 5 results.
retailer_total_sales_df = retailer_total_sales_df.sort_values(by="Total Sales", ascending=False)
retailer_total_sales_df.head(5)





# Show the total sales for the products sold for each retailer, region, state, and city
pivot_table_total_sales_df = pd.pivot_table(combined_sales_data_df,
                                            values="total_sales",
                                            index=["retailer", "region", "state", "city"],
                                            aggfunc="sum")

# Optional: Rename the "total_sales" column to "Total Sales"
pivot_table_total_sales_df = pivot_table_total_sales_df.rename(columns={"total_sales": "Total Sales"})

# Show the top 5 results
pivot_table_total_sales_df.sort_values(by="Total Sales", ascending=False).head(5)






# Filter the sales data to get the women's athletic footwear sales data
womens_athletic_footwear_data = combined_sales_data_df[combined_sales_data_df['product'].str.contains("Women's Athletic Footwear", case=False)]
womens_athletic_footwear_data





## Show the total number of women's athletic footwear sold for each retailer, region, state, and city.
womens_footwear_sold_df = womens_athletic_footwear_data.groupby(["retailer", "region", "state", "city"])["units_sold"].sum().reset_index()

# Rename the "units_sold" column to "womens_footwear_units_sold"
womens_footwear_sold_df = womens_footwear_sold_df.rename(columns={"units_sold": "Womens_Footwear_Units_Sold"})
# Show the top 5 results.
womens_footwear_sold_df = womens_footwear_sold_df.sort_values(by="Womens_Footwear_Units_Sold", ascending=False)
womens_footwear_sold_df.head(5)





# Show the total number of women's athletic footwear sold for each retailer, region, state, and city
pivot_table_womens_footwear_df = pd.pivot_table(womens_athletic_footwear_data,
                                               values="units_sold",
                                               index=["retailer", "region", "state", "city"],
                                               aggfunc="sum")

# Rename the "unit_sold" column to "Womens_Footwear_Units_Sold"
pivot_table_womens_footwear_df = pivot_table_womens_footwear_df.rename(columns={"units_sold": "Womens_Footwear_Units_Sold"})

# Show the top 5 results
pivot_table_womens_footwear_df.sort_values(by="Womens_Footwear_Units_Sold", ascending=False).head(5)





# Create a pivot table with the 'invoice_date' column is the index, and the "total_sales" as the values.
pivot_table_womens_footwear_df = pd.pivot_table(womens_athletic_footwear_data, 
                                               index="invoice_date",
                                               values="total_sales",
                                               aggfunc="sum")

# Optional: Rename the "total_sales" column to "Total Sales"
pivot_table_womens_footwear_df = pivot_table_womens_footwear_df.rename(columns={"total_sales": "Total Sales"})
# Show the table.
pivot_table_womens_footwear_df.sort_values(by="Total Sales", ascending=False).head(10)



# Resample the pivot table into daily bins, and get the total sales for each day.
pivot_table_womens_footwear_df = pivot_table_womens_footwear_df.resample("D").sum()

# Sort the resampled pivot table in ascending order on "Total Sales".
pivot_table_womens_footwear_df.sort_values(by=["Total Sales"], ascending=False).head(10)





pivot_table_womens_footwear_df.head()


# Resample the pivot table into weekly bins, and get the total sales for each week.
womens_weekly_athletic_footwear_sales_df = pivot_table_womens_footwear_df.resample('W').sum()

# Sort the resampled pivot table in ascending order on "Total Sales".
womens_weekly_athletic_footwear_sales_df.sort_values(by=["Total Sales"], ascending=False)



